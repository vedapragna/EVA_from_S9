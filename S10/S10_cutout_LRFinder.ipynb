{
  "nbformat": 4,
  "nbformat_minor": 0,
  "metadata": {
    "colab": {
      "name": " S10_cutout_LRFinder.ipynb",
      "provenance": [],
      "collapsed_sections": [],
      "include_colab_link": true
    },
    "kernelspec": {
      "name": "python3",
      "display_name": "Python 3"
    },
    "accelerator": "GPU",
    "widgets": {
      "application/vnd.jupyter.widget-state+json": {
        "114ec7f0cdab468281fea2062e457115": {
          "model_module": "@jupyter-widgets/controls",
          "model_name": "HBoxModel",
          "state": {
            "_view_name": "HBoxView",
            "_dom_classes": [],
            "_model_name": "HBoxModel",
            "_view_module": "@jupyter-widgets/controls",
            "_model_module_version": "1.5.0",
            "_view_count": null,
            "_view_module_version": "1.5.0",
            "box_style": "",
            "layout": "IPY_MODEL_7164f9bbdc3b401ea6d0b18f18a349eb",
            "_model_module": "@jupyter-widgets/controls",
            "children": [
              "IPY_MODEL_f5e4e5e3042347a6b227eec44ce7bb28",
              "IPY_MODEL_255cae76495144c98ef12bfc0f887025"
            ]
          }
        },
        "7164f9bbdc3b401ea6d0b18f18a349eb": {
          "model_module": "@jupyter-widgets/base",
          "model_name": "LayoutModel",
          "state": {
            "_view_name": "LayoutView",
            "grid_template_rows": null,
            "right": null,
            "justify_content": null,
            "_view_module": "@jupyter-widgets/base",
            "overflow": null,
            "_model_module_version": "1.2.0",
            "_view_count": null,
            "flex_flow": null,
            "width": null,
            "min_width": null,
            "border": null,
            "align_items": null,
            "bottom": null,
            "_model_module": "@jupyter-widgets/base",
            "top": null,
            "grid_column": null,
            "overflow_y": null,
            "overflow_x": null,
            "grid_auto_flow": null,
            "grid_area": null,
            "grid_template_columns": null,
            "flex": null,
            "_model_name": "LayoutModel",
            "justify_items": null,
            "grid_row": null,
            "max_height": null,
            "align_content": null,
            "visibility": null,
            "align_self": null,
            "height": null,
            "min_height": null,
            "padding": null,
            "grid_auto_rows": null,
            "grid_gap": null,
            "max_width": null,
            "order": null,
            "_view_module_version": "1.2.0",
            "grid_template_areas": null,
            "object_position": null,
            "object_fit": null,
            "grid_auto_columns": null,
            "margin": null,
            "display": null,
            "left": null
          }
        },
        "f5e4e5e3042347a6b227eec44ce7bb28": {
          "model_module": "@jupyter-widgets/controls",
          "model_name": "IntProgressModel",
          "state": {
            "_view_name": "ProgressView",
            "style": "IPY_MODEL_f9ad76e47b6a47fd9d550e901493a24c",
            "_dom_classes": [],
            "description": "100%",
            "_model_name": "IntProgressModel",
            "bar_style": "success",
            "max": 200,
            "_view_module": "@jupyter-widgets/controls",
            "_model_module_version": "1.5.0",
            "value": 200,
            "_view_count": null,
            "_view_module_version": "1.5.0",
            "orientation": "horizontal",
            "min": 0,
            "description_tooltip": null,
            "_model_module": "@jupyter-widgets/controls",
            "layout": "IPY_MODEL_0bfe2da58f844ae68bc42736379b83af"
          }
        },
        "255cae76495144c98ef12bfc0f887025": {
          "model_module": "@jupyter-widgets/controls",
          "model_name": "HTMLModel",
          "state": {
            "_view_name": "HTMLView",
            "style": "IPY_MODEL_8498a1198d844bedb0517aef25984208",
            "_dom_classes": [],
            "description": "",
            "_model_name": "HTMLModel",
            "placeholder": "​",
            "_view_module": "@jupyter-widgets/controls",
            "_model_module_version": "1.5.0",
            "value": " 200/200 [01:59&lt;00:00,  1.67it/s]",
            "_view_count": null,
            "_view_module_version": "1.5.0",
            "description_tooltip": null,
            "_model_module": "@jupyter-widgets/controls",
            "layout": "IPY_MODEL_810fa55e7a6b4d3a80fd3b1357bc2f94"
          }
        },
        "f9ad76e47b6a47fd9d550e901493a24c": {
          "model_module": "@jupyter-widgets/controls",
          "model_name": "ProgressStyleModel",
          "state": {
            "_view_name": "StyleView",
            "_model_name": "ProgressStyleModel",
            "description_width": "initial",
            "_view_module": "@jupyter-widgets/base",
            "_model_module_version": "1.5.0",
            "_view_count": null,
            "_view_module_version": "1.2.0",
            "bar_color": null,
            "_model_module": "@jupyter-widgets/controls"
          }
        },
        "0bfe2da58f844ae68bc42736379b83af": {
          "model_module": "@jupyter-widgets/base",
          "model_name": "LayoutModel",
          "state": {
            "_view_name": "LayoutView",
            "grid_template_rows": null,
            "right": null,
            "justify_content": null,
            "_view_module": "@jupyter-widgets/base",
            "overflow": null,
            "_model_module_version": "1.2.0",
            "_view_count": null,
            "flex_flow": null,
            "width": null,
            "min_width": null,
            "border": null,
            "align_items": null,
            "bottom": null,
            "_model_module": "@jupyter-widgets/base",
            "top": null,
            "grid_column": null,
            "overflow_y": null,
            "overflow_x": null,
            "grid_auto_flow": null,
            "grid_area": null,
            "grid_template_columns": null,
            "flex": null,
            "_model_name": "LayoutModel",
            "justify_items": null,
            "grid_row": null,
            "max_height": null,
            "align_content": null,
            "visibility": null,
            "align_self": null,
            "height": null,
            "min_height": null,
            "padding": null,
            "grid_auto_rows": null,
            "grid_gap": null,
            "max_width": null,
            "order": null,
            "_view_module_version": "1.2.0",
            "grid_template_areas": null,
            "object_position": null,
            "object_fit": null,
            "grid_auto_columns": null,
            "margin": null,
            "display": null,
            "left": null
          }
        },
        "8498a1198d844bedb0517aef25984208": {
          "model_module": "@jupyter-widgets/controls",
          "model_name": "DescriptionStyleModel",
          "state": {
            "_view_name": "StyleView",
            "_model_name": "DescriptionStyleModel",
            "description_width": "",
            "_view_module": "@jupyter-widgets/base",
            "_model_module_version": "1.5.0",
            "_view_count": null,
            "_view_module_version": "1.2.0",
            "_model_module": "@jupyter-widgets/controls"
          }
        },
        "810fa55e7a6b4d3a80fd3b1357bc2f94": {
          "model_module": "@jupyter-widgets/base",
          "model_name": "LayoutModel",
          "state": {
            "_view_name": "LayoutView",
            "grid_template_rows": null,
            "right": null,
            "justify_content": null,
            "_view_module": "@jupyter-widgets/base",
            "overflow": null,
            "_model_module_version": "1.2.0",
            "_view_count": null,
            "flex_flow": null,
            "width": null,
            "min_width": null,
            "border": null,
            "align_items": null,
            "bottom": null,
            "_model_module": "@jupyter-widgets/base",
            "top": null,
            "grid_column": null,
            "overflow_y": null,
            "overflow_x": null,
            "grid_auto_flow": null,
            "grid_area": null,
            "grid_template_columns": null,
            "flex": null,
            "_model_name": "LayoutModel",
            "justify_items": null,
            "grid_row": null,
            "max_height": null,
            "align_content": null,
            "visibility": null,
            "align_self": null,
            "height": null,
            "min_height": null,
            "padding": null,
            "grid_auto_rows": null,
            "grid_gap": null,
            "max_width": null,
            "order": null,
            "_view_module_version": "1.2.0",
            "grid_template_areas": null,
            "object_position": null,
            "object_fit": null,
            "grid_auto_columns": null,
            "margin": null,
            "display": null,
            "left": null
          }
        }
      }
    }
  },
  "cells": [
    {
      "cell_type": "markdown",
      "metadata": {
        "id": "view-in-github",
        "colab_type": "text"
      },
      "source": [
        "<a href=\"https://colab.research.google.com/github/vedapragna/EVA_from_S9/blob/master/S10_cutout_LRFinder.ipynb\" target=\"_parent\"><img src=\"https://colab.research.google.com/assets/colab-badge.svg\" alt=\"Open In Colab\"/></a>"
      ]
    },
    {
      "cell_type": "code",
      "metadata": {
        "id": "ATrya7L8YreI",
        "colab_type": "code",
        "outputId": "3c1178a5-58da-4a9e-d98f-783c58038c7b",
        "colab": {
          "base_uri": "https://localhost:8080/",
          "height": 34
        }
      },
      "source": [
        "# Import Python Packages ; \n",
        "import torch\n",
        "from torchsummary import summary\n",
        "import torch.optim as optim\n",
        "\n",
        "# Mount Google drive contents \n",
        "from google.colab import drive\n",
        "drive.mount('/content/gdrive/')\n",
        "\n",
        "import sys\n",
        "sys.path.append('/content/gdrive/My Drive/Colab Notebooks/')\n",
        "\n",
        "\n",
        "#Load the Modules of loading data set(Utils), Train and test functions(Train_Test), Model(resnet)\n",
        "from Utils import Train_Test \n",
        "from Utils import Utils_v1 as Utils \n",
        "from Utils import GradCam_for_Resnet18\n",
        "from Models import resnet"
      ],
      "execution_count": 1,
      "outputs": [
        {
          "output_type": "stream",
          "text": [
            "Drive already mounted at /content/gdrive/; to attempt to forcibly remount, call drive.mount(\"/content/gdrive/\", force_remount=True).\n"
          ],
          "name": "stdout"
        }
      ]
    },
    {
      "cell_type": "code",
      "metadata": {
        "id": "ro9nWdBHTssH",
        "colab_type": "code",
        "outputId": "380da400-fcd4-4421-edfa-7cda4c837bc3",
        "colab": {
          "base_uri": "https://localhost:8080/",
          "height": 1000
        }
      },
      "source": [
        "#Load Datasets, Dataloaders, Instantiate Resnet18 Model\n",
        "\n",
        "trainset, testset = Utils.Get_Cifar() # Load Cifar Data\n",
        "\n",
        "SEED = 1\n",
        "torch.manual_seed(SEED)\n",
        "\n",
        "train_loader, test_loader = Utils.DataLoader(trainset, testset, 512, SEED) \n",
        "\n",
        "device = Utils.get_device()\n",
        "print(device)\n",
        "\n",
        "model = resnet.ResNet18().to(device) # Get resnet18 model instance\n",
        "summary(model, input_size=(3, 32, 32))"
      ],
      "execution_count": 2,
      "outputs": [
        {
          "output_type": "stream",
          "text": [
            "Files already downloaded and verified\n",
            "Files already downloaded and verified\n",
            "cuda\n",
            "----------------------------------------------------------------\n",
            "        Layer (type)               Output Shape         Param #\n",
            "================================================================\n",
            "            Conv2d-1           [-1, 64, 32, 32]           1,728\n",
            "       BatchNorm2d-2           [-1, 64, 32, 32]             128\n",
            "            Conv2d-3           [-1, 64, 32, 32]          36,864\n",
            "       BatchNorm2d-4           [-1, 64, 32, 32]             128\n",
            "            Conv2d-5           [-1, 64, 32, 32]          36,864\n",
            "       BatchNorm2d-6           [-1, 64, 32, 32]             128\n",
            "        BasicBlock-7           [-1, 64, 32, 32]               0\n",
            "            Conv2d-8           [-1, 64, 32, 32]          36,864\n",
            "       BatchNorm2d-9           [-1, 64, 32, 32]             128\n",
            "           Conv2d-10           [-1, 64, 32, 32]          36,864\n",
            "      BatchNorm2d-11           [-1, 64, 32, 32]             128\n",
            "       BasicBlock-12           [-1, 64, 32, 32]               0\n",
            "           Conv2d-13          [-1, 128, 16, 16]          73,728\n",
            "      BatchNorm2d-14          [-1, 128, 16, 16]             256\n",
            "           Conv2d-15          [-1, 128, 16, 16]         147,456\n",
            "      BatchNorm2d-16          [-1, 128, 16, 16]             256\n",
            "           Conv2d-17          [-1, 128, 16, 16]           8,192\n",
            "      BatchNorm2d-18          [-1, 128, 16, 16]             256\n",
            "       BasicBlock-19          [-1, 128, 16, 16]               0\n",
            "           Conv2d-20          [-1, 128, 16, 16]         147,456\n",
            "      BatchNorm2d-21          [-1, 128, 16, 16]             256\n",
            "           Conv2d-22          [-1, 128, 16, 16]         147,456\n",
            "      BatchNorm2d-23          [-1, 128, 16, 16]             256\n",
            "       BasicBlock-24          [-1, 128, 16, 16]               0\n",
            "           Conv2d-25            [-1, 256, 8, 8]         294,912\n",
            "      BatchNorm2d-26            [-1, 256, 8, 8]             512\n",
            "           Conv2d-27            [-1, 256, 8, 8]         589,824\n",
            "      BatchNorm2d-28            [-1, 256, 8, 8]             512\n",
            "           Conv2d-29            [-1, 256, 8, 8]          32,768\n",
            "      BatchNorm2d-30            [-1, 256, 8, 8]             512\n",
            "       BasicBlock-31            [-1, 256, 8, 8]               0\n",
            "           Conv2d-32            [-1, 256, 8, 8]         589,824\n",
            "      BatchNorm2d-33            [-1, 256, 8, 8]             512\n",
            "           Conv2d-34            [-1, 256, 8, 8]         589,824\n",
            "      BatchNorm2d-35            [-1, 256, 8, 8]             512\n",
            "       BasicBlock-36            [-1, 256, 8, 8]               0\n",
            "           Conv2d-37            [-1, 512, 4, 4]       1,179,648\n",
            "      BatchNorm2d-38            [-1, 512, 4, 4]           1,024\n",
            "           Conv2d-39            [-1, 512, 4, 4]       2,359,296\n",
            "      BatchNorm2d-40            [-1, 512, 4, 4]           1,024\n",
            "           Conv2d-41            [-1, 512, 4, 4]         131,072\n",
            "      BatchNorm2d-42            [-1, 512, 4, 4]           1,024\n",
            "       BasicBlock-43            [-1, 512, 4, 4]               0\n",
            "           Conv2d-44            [-1, 512, 4, 4]       2,359,296\n",
            "      BatchNorm2d-45            [-1, 512, 4, 4]           1,024\n",
            "           Conv2d-46            [-1, 512, 4, 4]       2,359,296\n",
            "      BatchNorm2d-47            [-1, 512, 4, 4]           1,024\n",
            "       BasicBlock-48            [-1, 512, 4, 4]               0\n",
            "           Linear-49                   [-1, 10]           5,130\n",
            "================================================================\n",
            "Total params: 11,173,962\n",
            "Trainable params: 11,173,962\n",
            "Non-trainable params: 0\n",
            "----------------------------------------------------------------\n",
            "Input size (MB): 0.01\n",
            "Forward/backward pass size (MB): 11.25\n",
            "Params size (MB): 42.63\n",
            "Estimated Total Size (MB): 53.89\n",
            "----------------------------------------------------------------\n"
          ],
          "name": "stdout"
        }
      ]
    },
    {
      "cell_type": "code",
      "metadata": {
        "id": "scmvfTKq9l-q",
        "colab_type": "code",
        "outputId": "c960168e-9c3a-49fe-b91c-32127c83eac3",
        "colab": {
          "base_uri": "https://localhost:8080/",
          "height": 70
        }
      },
      "source": [
        "from Utils import lr_finder\n",
        "int(round(len(train_loader.dataset)/train_loader.batch_size,0))"
      ],
      "execution_count": 3,
      "outputs": [
        {
          "output_type": "stream",
          "text": [
            "WARNING:Utils.lr_finder:To enable mixed precision training, please install `apex`. Or you can re-install this package by the following command:\n",
            "  pip install torch-lr-finder -v --global-option=\"amp\"\n"
          ],
          "name": "stderr"
        },
        {
          "output_type": "execute_result",
          "data": {
            "text/plain": [
              "98"
            ]
          },
          "metadata": {
            "tags": []
          },
          "execution_count": 3
        }
      ]
    },
    {
      "cell_type": "code",
      "metadata": {
        "id": "KjFCdpXZ9bns",
        "colab_type": "code",
        "outputId": "e48eed83-c5a6-4fef-fe68-291879d71d90",
        "colab": {
          "base_uri": "https://localhost:8080/",
          "height": 367,
          "referenced_widgets": [
            "114ec7f0cdab468281fea2062e457115",
            "7164f9bbdc3b401ea6d0b18f18a349eb",
            "f5e4e5e3042347a6b227eec44ce7bb28",
            "255cae76495144c98ef12bfc0f887025",
            "f9ad76e47b6a47fd9d550e901493a24c",
            "0bfe2da58f844ae68bc42736379b83af",
            "8498a1198d844bedb0517aef25984208",
            "810fa55e7a6b4d3a80fd3b1357bc2f94"
          ]
        }
      },
      "source": [
        "\n",
        "import torch.nn as nn\n",
        "import torch.optim as optim\n",
        "\n",
        "#lr_f1.reset()\n",
        "criterion = nn.CrossEntropyLoss()\n",
        "optimizer = optim.SGD(model.parameters(), lr=1e-7)#, weight_decay=0.2\n",
        "lr_f1 = lr_finder.LRFinder(model, optimizer, criterion, device=\"cuda\")\n",
        "lr_f1.range_test(train_loader, end_lr=10, num_iter= 200, step_mode=\"exp\")\n",
        "lr_f1.plot()\n",
        "\n",
        "#int(round(len(train_loader.dataset)/train_loader.batch_size,0))"
      ],
      "execution_count": 4,
      "outputs": [
        {
          "output_type": "display_data",
          "data": {
            "application/vnd.jupyter.widget-view+json": {
              "model_id": "114ec7f0cdab468281fea2062e457115",
              "version_minor": 0,
              "version_major": 2
            },
            "text/plain": [
              "HBox(children=(IntProgress(value=0, max=200), HTML(value='')))"
            ]
          },
          "metadata": {
            "tags": []
          }
        },
        {
          "output_type": "stream",
          "text": [
            "\n",
            "Learning rate search finished. See the graph with {finder_name}.plot()\n"
          ],
          "name": "stdout"
        },
        {
          "output_type": "display_data",
          "data": {
            "image/png": "iVBORw0KGgoAAAANSUhEUgAAAYIAAAEKCAYAAAAfGVI8AAAABHNCSVQICAgIfAhkiAAAAAlwSFlz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\nAElFTkSuQmCC\n",
            "text/plain": [
              "<Figure size 432x288 with 1 Axes>"
            ]
          },
          "metadata": {
            "tags": []
          }
        },
        {
          "output_type": "execute_result",
          "data": {
            "text/plain": [
              "<matplotlib.axes._subplots.AxesSubplot at 0x7ffaba3a5160>"
            ]
          },
          "metadata": {
            "tags": []
          },
          "execution_count": 4
        }
      ]
    },
    {
      "cell_type": "code",
      "metadata": {
        "id": "YxjEPpokbNL4",
        "colab_type": "code",
        "outputId": "3717d963-a659-44e1-9c2b-d90863ab5b2d",
        "colab": {
          "base_uri": "https://localhost:8080/",
          "height": 34
        }
      },
      "source": [
        "# Learning Rate with least Loss\n",
        "lr_f1.history['lr'][lr_f1.history['loss'].index(lr_f1.best_loss)]"
      ],
      "execution_count": 5,
      "outputs": [
        {
          "output_type": "execute_result",
          "data": {
            "text/plain": [
              "0.05248074602497723"
            ]
          },
          "metadata": {
            "tags": []
          },
          "execution_count": 5
        }
      ]
    },
    {
      "cell_type": "code",
      "metadata": {
        "id": "Vux1FvbXcQUs",
        "colab_type": "code",
        "colab": {}
      },
      "source": [
        "lr_f1.reset()"
      ],
      "execution_count": 0,
      "outputs": []
    },
    {
      "cell_type": "code",
      "metadata": {
        "id": "hn4KOPi37Ybj",
        "colab_type": "code",
        "outputId": "68220b52-5288-44f6-f44e-a31a3cce8edd",
        "colab": {
          "base_uri": "https://localhost:8080/",
          "height": 1000
        }
      },
      "source": [
        "# Model Training and Inference on Test Data\n",
        "from torch.optim.lr_scheduler import ReduceLROnPlateau\n",
        "\n",
        "curr_lr = 0.0525#0.0575\n",
        "optimizer = optim.SGD(model.parameters(), lr=curr_lr, momentum=0.9, weight_decay=0.006)#,weight_decay=0.002\n",
        "scheduler = ReduceLROnPlateau(optimizer, 'min',patience = 3, factor = 1/5)\n",
        "\n",
        "EPOCHS = 30\n",
        "for epoch in range(EPOCHS):\n",
        "    print(\"EPOCH:\", epoch)\n",
        "    trn_acc,trn_loss = Train_Test.train(model, device, train_loader, optimizer, epoch) #Train_Test.\n",
        "    test_acc,test_loss = Train_Test.test(model, device, test_loader) #Train_Test.\n",
        "    \n",
        "    # Update Learning Rate every 10 epochs once\n",
        "    scheduler.step(test_loss)"
      ],
      "execution_count": 6,
      "outputs": [
        {
          "output_type": "stream",
          "text": [
            "\r  0%|          | 0/98 [00:00<?, ?it/s]"
          ],
          "name": "stderr"
        },
        {
          "output_type": "stream",
          "text": [
            "EPOCH: 0\n"
          ],
          "name": "stdout"
        },
        {
          "output_type": "stream",
          "text": [
            "Loss=1.9391649961471558 Batch_id=97 Accuracy=18.37: 100%|██████████| 98/98 [00:59<00:00,  1.65it/s]\n",
            "  0%|          | 0/98 [00:00<?, ?it/s]"
          ],
          "name": "stderr"
        },
        {
          "output_type": "stream",
          "text": [
            "\n",
            "Test set: Average loss: 0.0039, Accuracy: 2569/10000 (25.69%)\n",
            "\n",
            "EPOCH: 1\n"
          ],
          "name": "stdout"
        },
        {
          "output_type": "stream",
          "text": [
            "Loss=1.6756540536880493 Batch_id=97 Accuracy=33.21: 100%|██████████| 98/98 [00:58<00:00,  1.68it/s]\n",
            "  0%|          | 0/98 [00:00<?, ?it/s]"
          ],
          "name": "stderr"
        },
        {
          "output_type": "stream",
          "text": [
            "\n",
            "Test set: Average loss: 0.0035, Accuracy: 3315/10000 (33.15%)\n",
            "\n",
            "EPOCH: 2\n"
          ],
          "name": "stdout"
        },
        {
          "output_type": "stream",
          "text": [
            "Loss=1.5018237829208374 Batch_id=97 Accuracy=45.75: 100%|██████████| 98/98 [00:58<00:00,  1.67it/s]\n",
            "  0%|          | 0/98 [00:00<?, ?it/s]"
          ],
          "name": "stderr"
        },
        {
          "output_type": "stream",
          "text": [
            "\n",
            "Test set: Average loss: 0.0034, Accuracy: 3748/10000 (37.48%)\n",
            "\n",
            "EPOCH: 3\n"
          ],
          "name": "stdout"
        },
        {
          "output_type": "stream",
          "text": [
            "Loss=1.2127984762191772 Batch_id=97 Accuracy=54.42: 100%|██████████| 98/98 [00:58<00:00,  1.67it/s]\n",
            "  0%|          | 0/98 [00:00<?, ?it/s]"
          ],
          "name": "stderr"
        },
        {
          "output_type": "stream",
          "text": [
            "\n",
            "Test set: Average loss: 0.0025, Accuracy: 5397/10000 (53.97%)\n",
            "\n",
            "EPOCH: 4\n"
          ],
          "name": "stdout"
        },
        {
          "output_type": "stream",
          "text": [
            "Loss=1.0209101438522339 Batch_id=97 Accuracy=62.91: 100%|██████████| 98/98 [00:58<00:00,  1.67it/s]\n",
            "  0%|          | 0/98 [00:00<?, ?it/s]"
          ],
          "name": "stderr"
        },
        {
          "output_type": "stream",
          "text": [
            "\n",
            "Test set: Average loss: 0.0025, Accuracy: 5495/10000 (54.95%)\n",
            "\n",
            "EPOCH: 5\n"
          ],
          "name": "stdout"
        },
        {
          "output_type": "stream",
          "text": [
            "Loss=0.864641547203064 Batch_id=97 Accuracy=68.66: 100%|██████████| 98/98 [00:58<00:00,  1.66it/s]\n",
            "  0%|          | 0/98 [00:00<?, ?it/s]"
          ],
          "name": "stderr"
        },
        {
          "output_type": "stream",
          "text": [
            "\n",
            "Test set: Average loss: 0.0021, Accuracy: 6450/10000 (64.50%)\n",
            "\n",
            "EPOCH: 6\n"
          ],
          "name": "stdout"
        },
        {
          "output_type": "stream",
          "text": [
            "Loss=0.7675214409828186 Batch_id=97 Accuracy=74.29: 100%|██████████| 98/98 [00:58<00:00,  1.67it/s]\n",
            "  0%|          | 0/98 [00:00<?, ?it/s]"
          ],
          "name": "stderr"
        },
        {
          "output_type": "stream",
          "text": [
            "\n",
            "Test set: Average loss: 0.0022, Accuracy: 6297/10000 (62.97%)\n",
            "\n",
            "EPOCH: 7\n"
          ],
          "name": "stdout"
        },
        {
          "output_type": "stream",
          "text": [
            "Loss=0.7016045451164246 Batch_id=97 Accuracy=78.31: 100%|██████████| 98/98 [00:58<00:00,  1.68it/s]\n",
            "  0%|          | 0/98 [00:00<?, ?it/s]"
          ],
          "name": "stderr"
        },
        {
          "output_type": "stream",
          "text": [
            "\n",
            "Test set: Average loss: 0.0017, Accuracy: 7119/10000 (71.19%)\n",
            "\n",
            "EPOCH: 8\n"
          ],
          "name": "stdout"
        },
        {
          "output_type": "stream",
          "text": [
            "Loss=0.5457624197006226 Batch_id=97 Accuracy=80.31: 100%|██████████| 98/98 [00:58<00:00,  1.67it/s]\n",
            "  0%|          | 0/98 [00:00<?, ?it/s]"
          ],
          "name": "stderr"
        },
        {
          "output_type": "stream",
          "text": [
            "\n",
            "Test set: Average loss: 0.0017, Accuracy: 7128/10000 (71.28%)\n",
            "\n",
            "EPOCH: 9\n"
          ],
          "name": "stdout"
        },
        {
          "output_type": "stream",
          "text": [
            "Loss=0.6529058814048767 Batch_id=97 Accuracy=81.69: 100%|██████████| 98/98 [00:58<00:00,  1.68it/s]\n",
            "  0%|          | 0/98 [00:00<?, ?it/s]"
          ],
          "name": "stderr"
        },
        {
          "output_type": "stream",
          "text": [
            "\n",
            "Test set: Average loss: 0.0014, Accuracy: 7645/10000 (76.45%)\n",
            "\n",
            "EPOCH: 10\n"
          ],
          "name": "stdout"
        },
        {
          "output_type": "stream",
          "text": [
            "Loss=0.5176318883895874 Batch_id=97 Accuracy=82.93: 100%|██████████| 98/98 [00:58<00:00,  1.67it/s]\n",
            "  0%|          | 0/98 [00:00<?, ?it/s]"
          ],
          "name": "stderr"
        },
        {
          "output_type": "stream",
          "text": [
            "\n",
            "Test set: Average loss: 0.0016, Accuracy: 7268/10000 (72.68%)\n",
            "\n",
            "EPOCH: 11\n"
          ],
          "name": "stdout"
        },
        {
          "output_type": "stream",
          "text": [
            "Loss=0.5190381407737732 Batch_id=97 Accuracy=83.76: 100%|██████████| 98/98 [00:58<00:00,  1.68it/s]\n",
            "  0%|          | 0/98 [00:00<?, ?it/s]"
          ],
          "name": "stderr"
        },
        {
          "output_type": "stream",
          "text": [
            "\n",
            "Test set: Average loss: 0.0017, Accuracy: 7132/10000 (71.32%)\n",
            "\n",
            "EPOCH: 12\n"
          ],
          "name": "stdout"
        },
        {
          "output_type": "stream",
          "text": [
            "Loss=0.5440913438796997 Batch_id=97 Accuracy=84.12: 100%|██████████| 98/98 [00:58<00:00,  1.68it/s]\n",
            "  0%|          | 0/98 [00:00<?, ?it/s]"
          ],
          "name": "stderr"
        },
        {
          "output_type": "stream",
          "text": [
            "\n",
            "Test set: Average loss: 0.0014, Accuracy: 7551/10000 (75.51%)\n",
            "\n",
            "EPOCH: 13\n"
          ],
          "name": "stdout"
        },
        {
          "output_type": "stream",
          "text": [
            "Loss=0.47867974638938904 Batch_id=97 Accuracy=84.90: 100%|██████████| 98/98 [00:58<00:00,  1.68it/s]\n",
            "  0%|          | 0/98 [00:00<?, ?it/s]"
          ],
          "name": "stderr"
        },
        {
          "output_type": "stream",
          "text": [
            "\n",
            "Test set: Average loss: 0.0023, Accuracy: 6479/10000 (64.79%)\n",
            "\n",
            "EPOCH: 14\n"
          ],
          "name": "stdout"
        },
        {
          "output_type": "stream",
          "text": [
            "Loss=0.22130820155143738 Batch_id=97 Accuracy=90.97: 100%|██████████| 98/98 [00:58<00:00,  1.68it/s]\n",
            "  0%|          | 0/98 [00:00<?, ?it/s]"
          ],
          "name": "stderr"
        },
        {
          "output_type": "stream",
          "text": [
            "\n",
            "Test set: Average loss: 0.0008, Accuracy: 8692/10000 (86.92%)\n",
            "\n",
            "EPOCH: 15\n"
          ],
          "name": "stdout"
        },
        {
          "output_type": "stream",
          "text": [
            "Loss=0.19323818385601044 Batch_id=97 Accuracy=93.93: 100%|██████████| 98/98 [00:58<00:00,  1.68it/s]\n",
            "  0%|          | 0/98 [00:00<?, ?it/s]"
          ],
          "name": "stderr"
        },
        {
          "output_type": "stream",
          "text": [
            "\n",
            "Test set: Average loss: 0.0008, Accuracy: 8759/10000 (87.59%)\n",
            "\n",
            "EPOCH: 16\n"
          ],
          "name": "stdout"
        },
        {
          "output_type": "stream",
          "text": [
            "Loss=0.20414726436138153 Batch_id=97 Accuracy=95.30: 100%|██████████| 98/98 [00:58<00:00,  1.68it/s]\n",
            "  0%|          | 0/98 [00:00<?, ?it/s]"
          ],
          "name": "stderr"
        },
        {
          "output_type": "stream",
          "text": [
            "\n",
            "Test set: Average loss: 0.0008, Accuracy: 8687/10000 (86.87%)\n",
            "\n",
            "EPOCH: 17\n"
          ],
          "name": "stdout"
        },
        {
          "output_type": "stream",
          "text": [
            "Loss=0.21452109515666962 Batch_id=97 Accuracy=95.92: 100%|██████████| 98/98 [00:58<00:00,  1.68it/s]\n",
            "  0%|          | 0/98 [00:00<?, ?it/s]"
          ],
          "name": "stderr"
        },
        {
          "output_type": "stream",
          "text": [
            "\n",
            "Test set: Average loss: 0.0008, Accuracy: 8632/10000 (86.32%)\n",
            "\n",
            "EPOCH: 18\n"
          ],
          "name": "stdout"
        },
        {
          "output_type": "stream",
          "text": [
            "Loss=0.14803333580493927 Batch_id=97 Accuracy=96.31: 100%|██████████| 98/98 [00:58<00:00,  1.68it/s]\n",
            "  0%|          | 0/98 [00:00<?, ?it/s]"
          ],
          "name": "stderr"
        },
        {
          "output_type": "stream",
          "text": [
            "\n",
            "Test set: Average loss: 0.0009, Accuracy: 8516/10000 (85.16%)\n",
            "\n",
            "EPOCH: 19\n"
          ],
          "name": "stdout"
        },
        {
          "output_type": "stream",
          "text": [
            "Loss=0.13556163012981415 Batch_id=97 Accuracy=96.47: 100%|██████████| 98/98 [00:58<00:00,  1.68it/s]\n",
            "  0%|          | 0/98 [00:00<?, ?it/s]"
          ],
          "name": "stderr"
        },
        {
          "output_type": "stream",
          "text": [
            "\n",
            "Test set: Average loss: 0.0010, Accuracy: 8504/10000 (85.04%)\n",
            "\n",
            "EPOCH: 20\n"
          ],
          "name": "stdout"
        },
        {
          "output_type": "stream",
          "text": [
            "Loss=0.06625702232122421 Batch_id=97 Accuracy=98.40: 100%|██████████| 98/98 [00:58<00:00,  1.68it/s]\n",
            "  0%|          | 0/98 [00:00<?, ?it/s]"
          ],
          "name": "stderr"
        },
        {
          "output_type": "stream",
          "text": [
            "\n",
            "Test set: Average loss: 0.0006, Accuracy: 9010/10000 (90.10%)\n",
            "\n",
            "EPOCH: 21\n"
          ],
          "name": "stdout"
        },
        {
          "output_type": "stream",
          "text": [
            "Loss=0.07120199501514435 Batch_id=97 Accuracy=99.26: 100%|██████████| 98/98 [00:58<00:00,  1.69it/s]\n",
            "  0%|          | 0/98 [00:00<?, ?it/s]"
          ],
          "name": "stderr"
        },
        {
          "output_type": "stream",
          "text": [
            "\n",
            "Test set: Average loss: 0.0006, Accuracy: 9032/10000 (90.32%)\n",
            "\n",
            "EPOCH: 22\n"
          ],
          "name": "stdout"
        },
        {
          "output_type": "stream",
          "text": [
            "Loss=0.03311358019709587 Batch_id=97 Accuracy=99.56: 100%|██████████| 98/98 [00:58<00:00,  1.68it/s]\n",
            "  0%|          | 0/98 [00:00<?, ?it/s]"
          ],
          "name": "stderr"
        },
        {
          "output_type": "stream",
          "text": [
            "\n",
            "Test set: Average loss: 0.0006, Accuracy: 9031/10000 (90.31%)\n",
            "\n",
            "EPOCH: 23\n"
          ],
          "name": "stdout"
        },
        {
          "output_type": "stream",
          "text": [
            "Loss=0.03775234520435333 Batch_id=97 Accuracy=99.64: 100%|██████████| 98/98 [00:58<00:00,  1.68it/s]\n",
            "  0%|          | 0/98 [00:00<?, ?it/s]"
          ],
          "name": "stderr"
        },
        {
          "output_type": "stream",
          "text": [
            "\n",
            "Test set: Average loss: 0.0006, Accuracy: 9026/10000 (90.26%)\n",
            "\n",
            "EPOCH: 24\n"
          ],
          "name": "stdout"
        },
        {
          "output_type": "stream",
          "text": [
            "Loss=0.03023473359644413 Batch_id=97 Accuracy=99.78: 100%|██████████| 98/98 [00:58<00:00,  1.68it/s]\n",
            "  0%|          | 0/98 [00:00<?, ?it/s]"
          ],
          "name": "stderr"
        },
        {
          "output_type": "stream",
          "text": [
            "\n",
            "Test set: Average loss: 0.0006, Accuracy: 9044/10000 (90.44%)\n",
            "\n",
            "EPOCH: 25\n"
          ],
          "name": "stdout"
        },
        {
          "output_type": "stream",
          "text": [
            "Loss=0.026908431202173233 Batch_id=97 Accuracy=99.84: 100%|██████████| 98/98 [00:58<00:00,  1.68it/s]\n",
            "  0%|          | 0/98 [00:00<?, ?it/s]"
          ],
          "name": "stderr"
        },
        {
          "output_type": "stream",
          "text": [
            "\n",
            "Test set: Average loss: 0.0006, Accuracy: 9054/10000 (90.54%)\n",
            "\n",
            "EPOCH: 26\n"
          ],
          "name": "stdout"
        },
        {
          "output_type": "stream",
          "text": [
            "Loss=0.01666978746652603 Batch_id=97 Accuracy=99.88: 100%|██████████| 98/98 [00:58<00:00,  1.68it/s]\n",
            "  0%|          | 0/98 [00:00<?, ?it/s]"
          ],
          "name": "stderr"
        },
        {
          "output_type": "stream",
          "text": [
            "\n",
            "Test set: Average loss: 0.0006, Accuracy: 9071/10000 (90.71%)\n",
            "\n",
            "EPOCH: 27\n"
          ],
          "name": "stdout"
        },
        {
          "output_type": "stream",
          "text": [
            "Loss=0.025915730744600296 Batch_id=97 Accuracy=99.90: 100%|██████████| 98/98 [00:58<00:00,  1.68it/s]\n",
            "  0%|          | 0/98 [00:00<?, ?it/s]"
          ],
          "name": "stderr"
        },
        {
          "output_type": "stream",
          "text": [
            "\n",
            "Test set: Average loss: 0.0006, Accuracy: 9065/10000 (90.65%)\n",
            "\n",
            "EPOCH: 28\n"
          ],
          "name": "stdout"
        },
        {
          "output_type": "stream",
          "text": [
            "Loss=0.018841581419110298 Batch_id=97 Accuracy=99.90: 100%|██████████| 98/98 [00:58<00:00,  1.68it/s]\n",
            "  0%|          | 0/98 [00:00<?, ?it/s]"
          ],
          "name": "stderr"
        },
        {
          "output_type": "stream",
          "text": [
            "\n",
            "Test set: Average loss: 0.0006, Accuracy: 9071/10000 (90.71%)\n",
            "\n",
            "EPOCH: 29\n"
          ],
          "name": "stdout"
        },
        {
          "output_type": "stream",
          "text": [
            "Loss=0.021454699337482452 Batch_id=97 Accuracy=99.90: 100%|██████████| 98/98 [00:58<00:00,  1.69it/s]\n"
          ],
          "name": "stderr"
        },
        {
          "output_type": "stream",
          "text": [
            "\n",
            "Test set: Average loss: 0.0006, Accuracy: 9071/10000 (90.71%)\n",
            "\n"
          ],
          "name": "stdout"
        }
      ]
    },
    {
      "cell_type": "code",
      "metadata": {
        "id": "nY9LqjBE0kdO",
        "colab_type": "code",
        "colab": {}
      },
      "source": [
        "import pandas as pd\n",
        "acc_df = pd.DataFrame({\"Epoch\": list(range(EPOCHS)), \"Training_Acc\": trn_acc,\"Test_Acc\" : test_acc })\n",
        "#acc_df"
      ],
      "execution_count": 0,
      "outputs": []
    },
    {
      "cell_type": "code",
      "metadata": {
        "id": "ja5Q9HLP4Q0J",
        "colab_type": "code",
        "outputId": "9dd30b42-58f5-48ef-d5a9-69f7a90933b3",
        "colab": {
          "base_uri": "https://localhost:8080/",
          "height": 294
        }
      },
      "source": [
        "# Get the Training and Test Accuracy Curves as the epochs proceeded\n",
        "\n",
        "%matplotlib inline\n",
        "import matplotlib.pyplot as plt\n",
        "import os\n",
        "os.getcwd()\n",
        "os.chdir(\"/content/gdrive/My Drive/Colab Notebooks/\")\n",
        "\n",
        "fig, ax = plt.subplots()\n",
        "ax.plot(acc_df['Training_Acc'],label='Train')\n",
        "ax.plot(acc_df['Test_Acc'], label='Test')\n",
        "#ax.axis('equal')\n",
        "plt.title(\"Accuracy Curves\")\n",
        "plt.xlabel(\"Epoch\")\n",
        "plt.ylabel(\"Accuracy\")\n",
        "leg = ax.legend();\n",
        "\n",
        "plt.savefig(\"Accuracy curves\")"
      ],
      "execution_count": 8,
      "outputs": [
        {
          "output_type": "display_data",
          "data": {
            "image/png": "iVBORw0KGgoAAAANSUhEUgAAAYYAAAEWCAYAAABi5jCmAAAABHNCSVQICAgIfAhkiAAAAAlwSFlz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\nSUVORK5CYII=\n",
            "text/plain": [
              "<Figure size 432x288 with 1 Axes>"
            ]
          },
          "metadata": {
            "tags": []
          }
        }
      ]
    },
    {
      "cell_type": "code",
      "metadata": {
        "id": "A5VQ5qZQjpNV",
        "colab_type": "code",
        "colab": {
          "base_uri": "https://localhost:8080/",
          "height": 34
        },
        "outputId": "423d415d-b770-4fa6-cdac-ddf6bf691a75"
      },
      "source": [
        ""
      ],
      "execution_count": 12,
      "outputs": [
        {
          "output_type": "display_data",
          "data": {
            "text/plain": [
              "<Figure size 432x288 with 0 Axes>"
            ]
          },
          "metadata": {
            "tags": []
          }
        }
      ]
    },
    {
      "cell_type": "code",
      "metadata": {
        "id": "H3SRCADtoR8U",
        "colab_type": "code",
        "colab": {}
      },
      "source": [
        "# Save the model\n",
        "\n",
        "import pickle\n",
        "import os\n",
        "\n",
        "if not os.path.exists('/content/gdrive/My Drive/Colab Notebooks/SavedModels'):\n",
        "    os.makedirs('/content/gdrive/My Drive/Colab Notebooks/SavedModels')\n",
        "torch.save(model.state_dict(), \"/content/gdrive/My Drive/Colab Notebooks/SavedModels/Resnet18_on_Cifar_with_Albumenation_Augm_S10.pth\")\n"
      ],
      "execution_count": 0,
      "outputs": []
    },
    {
      "cell_type": "code",
      "metadata": {
        "id": "d-kH4IQK89DO",
        "colab_type": "code",
        "colab": {}
      },
      "source": [
        "#Get Misclassified Images, their actual labels and predicted labels\n",
        "Image, Actual, Pred = Train_Test.get_misclassified_images(model, device, test_loader)"
      ],
      "execution_count": 0,
      "outputs": []
    },
    {
      "cell_type": "code",
      "metadata": {
        "id": "M_4E-wXSBgza",
        "colab_type": "code",
        "colab": {
          "base_uri": "https://localhost:8080/",
          "height": 1000
        },
        "outputId": "5e116ca9-1416-4ae2-f1e9-ba95da4471be"
      },
      "source": [
        "# Get Heatmaps of Misclassified Images\n",
        "\n",
        "\n",
        "from textwrap import wrap\n",
        "import matplotlib.pyplot as plt\n",
        "import cv2\n",
        "import numpy as np\n",
        "import sys\n",
        "sys.path.append('/content/gdrive/My Drive/Colab Notebooks/')\n",
        "\n",
        "from Models import resnet\n",
        "   \n",
        "model_path = \"/content/gdrive/My Drive/Colab Notebooks/SavedModels/Resnet18_on_Cifar_with_Albumenation_Augm_S10.pth\"\n",
        "tgt_layer = 'layer3'\n",
        "model_instance = resnet.ResNet18().to(device)\n",
        " \n",
        "\n",
        "fig=plt.figure(figsize=(12, 12))\n",
        "\n",
        "columns = 5\n",
        "rows = 5\n",
        "\n",
        "for i in range(1, columns*rows +1):\n",
        "    \n",
        "    Actual_lab = Actual[i-1].to(\"cpu\")\n",
        "    Pred_lab = Pred[i-1].to(\"cpu\")\n",
        "    heatmap, heatmap_on_img, act_cls, pred_cls= GradCam_for_Resnet18.get_CAMS(Image[i-1],model_instance,model_path,Actual_lab,Pred_lab,tgt_layer)#GradCam_for_Resnet18.\n",
        "\n",
        "    img = np.squeeze(heatmap_on_img.detach().numpy())\n",
        "    img = img.transpose((1, 2, 0))\n",
        "\n",
        "    fig.add_subplot(rows, columns, i)\n",
        "    \n",
        "    plt.imshow(img)\n",
        "    plt.title('Act: ' + act_cls + \" | Pred: \"+ pred_cls)\n",
        "\n",
        "fig.tight_layout()\n",
        "plt.savefig(\"Misclassified_Imgs_HeatMaps.png\")\n",
        "plt.show()\n",
        "\n",
        "\n",
        "# #img = np.squeeze(heatmap.numpy())\n",
        "# img.shape\n",
        "# #img = img * 0.5 + 0.5\n",
        "# plt.imshow()"
      ],
      "execution_count": 12,
      "outputs": [
        {
          "output_type": "stream",
          "text": [
            "/usr/local/lib/python3.6/dist-packages/torch/nn/functional.py:2416: UserWarning: nn.functional.upsample is deprecated. Use nn.functional.interpolate instead.\n",
            "  warnings.warn(\"nn.functional.upsample is deprecated. Use nn.functional.interpolate instead.\")\n",
            "WARNING:matplotlib.image:Clipping input data to the valid range for imshow with RGB data ([0..1] for floats or [0..255] for integers).\n",
            "WARNING:matplotlib.image:Clipping input data to the valid range for imshow with RGB data ([0..1] for floats or [0..255] for integers).\n",
            "WARNING:matplotlib.image:Clipping input data to the valid range for imshow with RGB data ([0..1] for floats or [0..255] for integers).\n",
            "WARNING:matplotlib.image:Clipping input data to the valid range for imshow with RGB data ([0..1] for floats or [0..255] for integers).\n",
            "WARNING:matplotlib.image:Clipping input data to the valid range for imshow with RGB data ([0..1] for floats or [0..255] for integers).\n",
            "WARNING:matplotlib.image:Clipping input data to the valid range for imshow with RGB data ([0..1] for floats or [0..255] for integers).\n",
            "WARNING:matplotlib.image:Clipping input data to the valid range for imshow with RGB data ([0..1] for floats or [0..255] for integers).\n",
            "WARNING:matplotlib.image:Clipping input data to the valid range for imshow with RGB data ([0..1] for floats or [0..255] for integers).\n",
            "WARNING:matplotlib.image:Clipping input data to the valid range for imshow with RGB data ([0..1] for floats or [0..255] for integers).\n",
            "WARNING:matplotlib.image:Clipping input data to the valid range for imshow with RGB data ([0..1] for floats or [0..255] for integers).\n",
            "WARNING:matplotlib.image:Clipping input data to the valid range for imshow with RGB data ([0..1] for floats or [0..255] for integers).\n",
            "WARNING:matplotlib.image:Clipping input data to the valid range for imshow with RGB data ([0..1] for floats or [0..255] for integers).\n",
            "WARNING:matplotlib.image:Clipping input data to the valid range for imshow with RGB data ([0..1] for floats or [0..255] for integers).\n",
            "WARNING:matplotlib.image:Clipping input data to the valid range for imshow with RGB data ([0..1] for floats or [0..255] for integers).\n",
            "WARNING:matplotlib.image:Clipping input data to the valid range for imshow with RGB data ([0..1] for floats or [0..255] for integers).\n",
            "WARNING:matplotlib.image:Clipping input data to the valid range for imshow with RGB data ([0..1] for floats or [0..255] for integers).\n",
            "WARNING:matplotlib.image:Clipping input data to the valid range for imshow with RGB data ([0..1] for floats or [0..255] for integers).\n",
            "WARNING:matplotlib.image:Clipping input data to the valid range for imshow with RGB data ([0..1] for floats or [0..255] for integers).\n",
            "WARNING:matplotlib.image:Clipping input data to the valid range for imshow with RGB data ([0..1] for floats or [0..255] for integers).\n",
            "WARNING:matplotlib.image:Clipping input data to the valid range for imshow with RGB data ([0..1] for floats or [0..255] for integers).\n",
            "WARNING:matplotlib.image:Clipping input data to the valid range for imshow with RGB data ([0..1] for floats or [0..255] for integers).\n",
            "WARNING:matplotlib.image:Clipping input data to the valid range for imshow with RGB data ([0..1] for floats or [0..255] for integers).\n",
            "WARNING:matplotlib.image:Clipping input data to the valid range for imshow with RGB data ([0..1] for floats or [0..255] for integers).\n",
            "WARNING:matplotlib.image:Clipping input data to the valid range for imshow with RGB data ([0..1] for floats or [0..255] for integers).\n",
            "WARNING:matplotlib.image:Clipping input data to the valid range for imshow with RGB data ([0..1] for floats or [0..255] for integers).\n"
          ],
          "name": "stderr"
        },
        {
          "output_type": "display_data",
          "data": {
            "image/png": "iVBORw0KGgoAAAANSUhEUgAAA1wAAANJCAYAAAAY/j3sAAAABHNCSVQICAgIfAhkiAAAAAlwSFlz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\nwzAMw9gl/n8GZ2vwENjujwAAAABJRU5ErkJggg==\n",
            "text/plain": [
              "<Figure size 864x864 with 25 Axes>"
            ]
          },
          "metadata": {
            "tags": []
          }
        }
      ]
    },
    {
      "cell_type": "code",
      "metadata": {
        "id": "5oHsKj3D4vJ4",
        "colab_type": "code",
        "colab": {}
      },
      "source": [
        ""
      ],
      "execution_count": 0,
      "outputs": []
    }
  ]
}O1vNXm+5+wH/O307rYbY8MPAOxXJulgld/9h7E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\nwzAMw9gl/n8GZ2vwENjujwAAAABJRU5ErkJggg==\n",
            "text/plain": [
              "<Figure size 864x864 with 25 Axes>"
            ]
          },
          "metadata": {
            "tags": []
          }
        }
      ]
    },
    {
      "cell_type": "code",
      "metadata": {
        "id": "5oHsKj3D4vJ4",
        "colab_type": "code",
        "colab": {}
      },
      "source": [
        ""
      ],
      "execution_count": 0,
      "outputs": []
    }
  ]
}
