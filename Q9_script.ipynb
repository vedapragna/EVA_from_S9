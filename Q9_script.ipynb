{
  "nbformat": 4,
  "nbformat_minor": 0,
  "metadata": {
    "colab": {
      "name": "Q9_script.ipynb",
      "provenance": [],
      "collapsed_sections": [],
      "authorship_tag": "ABX9TyNgoUH2gl0byYG7J96/ouQa",
      "include_colab_link": true
    },
    "kernelspec": {
      "name": "python3",
      "display_name": "Python 3"
    },
    "accelerator": "GPU"
  },
  "cells": [
    {
      "cell_type": "markdown",
      "metadata": {
        "id": "view-in-github",
        "colab_type": "text"
      },
      "source": [
        "<a href=\"https://colab.research.google.com/github/vedapragna/EVA_from_S9/blob/master/Q9_script.ipynb\" target=\"_parent\"><img src=\"https://colab.research.google.com/assets/colab-badge.svg\" alt=\"Open In Colab\"/></a>"
      ]
    },
    {
      "cell_type": "code",
      "metadata": {
        "id": "qbXRPrDn5t96",
        "colab_type": "code",
        "colab": {
          "base_uri": "https://localhost:8080/",
          "height": 34
        },
        "outputId": "5011f8ae-e0b9-4d0e-d7a3-937b9c8b74f3"
      },
      "source": [
        "from datetime import datetime\n",
        "print(\"Current Date/Time: \", datetime.now())"
      ],
      "execution_count": 1,
      "outputs": [
        {
          "output_type": "stream",
          "text": [
            "Current Date/Time:  2020-03-17 12:01:57.847109\n"
          ],
          "name": "stdout"
        }
      ]
    },
    {
      "cell_type": "code",
      "metadata": {
        "id": "iyKYdxrL59vr",
        "colab_type": "code",
        "colab": {
          "base_uri": "https://localhost:8080/",
          "height": 34
        },
        "outputId": "5c00ae05-651d-4e94-871d-7ee929543b84"
      },
      "source": [
        "import torch\n",
        "from torchsummary import summary\n",
        "import torch.optim as optim\n",
        "\n",
        "# Mount Google drive contents \n",
        "from google.colab import drive\n",
        "drive.mount('/content/gdrive/')\n",
        "\n",
        "import sys\n",
        "sys.path.append('/content/gdrive/My Drive/Colab Notebooks/')\n",
        "\n",
        "\n",
        "#Load the Modules of loading data set(Utils), Train and test functions(Train_Test), Model(resnet)\n",
        "from Utils import Train_Test \n",
        "from Utils import Utils_v1 as Utils \n",
        "from Utils import GradCam_for_Resnet18\n",
        "from Models import QuizDNN"
      ],
      "execution_count": 1,
      "outputs": [
        {
          "output_type": "stream",
          "text": [
            "Drive already mounted at /content/gdrive/; to attempt to forcibly remount, call drive.mount(\"/content/gdrive/\", force_remount=True).\n"
          ],
          "name": "stdout"
        }
      ]
    },
    {
      "cell_type": "code",
      "metadata": {
        "id": "s3zM74vX6CEB",
        "colab_type": "code",
        "colab": {
          "base_uri": "https://localhost:8080/",
          "height": 70
        },
        "outputId": "a9a4c1a5-33ea-4512-8236-14b85950d310"
      },
      "source": [
        "#Load Datasets, Dataloaders, Instantiatre Resnet18 Model\n",
        "\n",
        "trainset, testset = Utils.Get_Cifar() # Load Cifar Data\n",
        "\n",
        "SEED = 1\n",
        "torch.manual_seed(SEED)\n",
        "\n",
        "train_loader, test_loader = Utils.DataLoader(trainset, testset, 128, SEED) \n",
        "\n",
        "device = Utils.get_device()\n",
        "print(device)\n",
        "\n",
        "# model = resnet.ResNet18().to(device) # Get resnet18 model instance\n",
        "# summary(model, input_size=(3, 32, 32))"
      ],
      "execution_count": 2,
      "outputs": [
        {
          "output_type": "stream",
          "text": [
            "Files already downloaded and verified\n",
            "Files already downloaded and verified\n",
            "cuda\n"
          ],
          "name": "stdout"
        }
      ]
    },
    {
      "cell_type": "code",
      "metadata": {
        "id": "4O3AC8txBKrG",
        "colab_type": "code",
        "colab": {
          "base_uri": "https://localhost:8080/",
          "height": 887
        },
        "outputId": "fd070940-170a-4369-ed7b-795b831c87dd"
      },
      "source": [
        "model = QuizDNN.Net().to(device)\n",
        "summary(model, input_size=(3, 32, 32))"
      ],
      "execution_count": 3,
      "outputs": [
        {
          "output_type": "stream",
          "text": [
            "----------------------------------------------------------------\n",
            "        Layer (type)               Output Shape         Param #\n",
            "================================================================\n",
            "            Conv2d-1           [-1, 32, 30, 30]             864\n",
            "              ReLU-2           [-1, 32, 30, 30]               0\n",
            "       BatchNorm2d-3           [-1, 32, 30, 30]              64\n",
            "            Conv2d-4          [-1, 128, 30, 30]           1,152\n",
            "            Conv2d-5           [-1, 32, 30, 30]           4,096\n",
            "              ReLU-6           [-1, 32, 30, 30]               0\n",
            "       BatchNorm2d-7           [-1, 32, 30, 30]              64\n",
            "            Conv2d-8          [-1, 128, 30, 30]           1,152\n",
            "            Conv2d-9           [-1, 32, 30, 30]           4,096\n",
            "             ReLU-10           [-1, 32, 30, 30]               0\n",
            "      BatchNorm2d-11           [-1, 32, 30, 30]              64\n",
            "        MaxPool2d-12           [-1, 32, 15, 15]               0\n",
            "           Conv2d-13          [-1, 128, 15, 15]           1,152\n",
            "           Conv2d-14           [-1, 32, 15, 15]           4,096\n",
            "             ReLU-15           [-1, 32, 15, 15]               0\n",
            "      BatchNorm2d-16           [-1, 32, 15, 15]              64\n",
            "           Conv2d-17          [-1, 128, 15, 15]           1,152\n",
            "           Conv2d-18           [-1, 32, 15, 15]           4,096\n",
            "             ReLU-19           [-1, 32, 15, 15]               0\n",
            "      BatchNorm2d-20           [-1, 32, 15, 15]              64\n",
            "           Conv2d-21          [-1, 128, 15, 15]           1,152\n",
            "           Conv2d-22           [-1, 32, 15, 15]           4,096\n",
            "             ReLU-23           [-1, 32, 15, 15]               0\n",
            "      BatchNorm2d-24           [-1, 32, 15, 15]              64\n",
            "        MaxPool2d-25             [-1, 32, 7, 7]               0\n",
            "           Conv2d-26            [-1, 128, 7, 7]           1,152\n",
            "           Conv2d-27             [-1, 32, 7, 7]           4,096\n",
            "             ReLU-28             [-1, 32, 7, 7]               0\n",
            "      BatchNorm2d-29             [-1, 32, 7, 7]              64\n",
            "           Conv2d-30            [-1, 128, 7, 7]           1,152\n",
            "           Conv2d-31             [-1, 32, 7, 7]           4,096\n",
            "             ReLU-32             [-1, 32, 7, 7]               0\n",
            "      BatchNorm2d-33             [-1, 32, 7, 7]              64\n",
            "           Conv2d-34             [-1, 32, 7, 7]           1,024\n",
            "        AvgPool2d-35             [-1, 32, 1, 1]               0\n",
            "           Linear-36                   [-1, 10]          15,690\n",
            "================================================================\n",
            "Total params: 54,826\n",
            "Trainable params: 54,826\n",
            "Non-trainable params: 0\n",
            "----------------------------------------------------------------\n",
            "Input size (MB): 0.01\n",
            "Forward/backward pass size (MB): 5.14\n",
            "Params size (MB): 0.21\n",
            "Estimated Total Size (MB): 5.36\n",
            "----------------------------------------------------------------\n"
          ],
          "name": "stdout"
        }
      ]
    },
    {
      "cell_type": "code",
      "metadata": {
        "colab_type": "code",
        "outputId": "adc7fcdb-71eb-4531-8320-e3e3ed9d994d",
        "id": "ThPP1YipT4TY",
        "colab": {
          "base_uri": "https://localhost:8080/",
          "height": 1000
        }
      },
      "source": [
        "import torch.optim as optim\n",
        "optimizer = optim.SGD(model.parameters(), lr=0.01, momentum=0.9)#,weight_decay=0.2\n",
        "model = QuizDNN.Net().to(device)\n",
        "\n",
        "EPOCHS = 35\n",
        "for epoch in range(EPOCHS):\n",
        "    print(\"EPOCH:\", epoch)\n",
        "    Train_Test.train(model, device, train_loader, optimizer, epoch)\n",
        "    Train_Test.test(model, device, test_loader)\n",
        "    # train(model, device, train_loader, optimizer, epoch)\n",
        "    # test(model, device, test_loader)"
      ],
      "execution_count": 4,
      "outputs": [
        {
          "output_type": "stream",
          "text": [
            "\r  0%|          | 0/391 [00:00<?, ?it/s]"
          ],
          "name": "stderr"
        },
        {
          "output_type": "stream",
          "text": [
            "EPOCH: 0\n"
          ],
          "name": "stdout"
        },
        {
          "output_type": "stream",
          "text": [
            "Loss=2.630213737487793 Batch_id=390 Accuracy=11.56: 100%|██████████| 391/391 [00:12<00:00, 31.93it/s]\n",
            "  0%|          | 0/391 [00:00<?, ?it/s]"
          ],
          "name": "stderr"
        },
        {
          "output_type": "stream",
          "text": [
            "\n",
            "Test set: Average loss: 0.0204, Accuracy: 1172/10000 (11.72%)\n",
            "\n",
            "EPOCH: 1\n"
          ],
          "name": "stdout"
        },
        {
          "output_type": "stream",
          "text": [
            "Loss=2.5662930011749268 Batch_id=390 Accuracy=11.66: 100%|██████████| 391/391 [00:12<00:00, 36.99it/s]\n",
            "  0%|          | 0/391 [00:00<?, ?it/s]"
          ],
          "name": "stderr"
        },
        {
          "output_type": "stream",
          "text": [
            "\n",
            "Test set: Average loss: 0.0203, Accuracy: 1158/10000 (11.58%)\n",
            "\n",
            "EPOCH: 2\n"
          ],
          "name": "stdout"
        },
        {
          "output_type": "stream",
          "text": [
            "Loss=2.639132022857666 Batch_id=390 Accuracy=11.75: 100%|██████████| 391/391 [00:12<00:00, 31.66it/s]\n",
            "  0%|          | 0/391 [00:00<?, ?it/s]"
          ],
          "name": "stderr"
        },
        {
          "output_type": "stream",
          "text": [
            "\n",
            "Test set: Average loss: 0.0204, Accuracy: 1166/10000 (11.66%)\n",
            "\n",
            "EPOCH: 3\n"
          ],
          "name": "stdout"
        },
        {
          "output_type": "stream",
          "text": [
            "Loss=2.5093252658843994 Batch_id=390 Accuracy=11.44: 100%|██████████| 391/391 [00:12<00:00, 31.81it/s]\n",
            "  0%|          | 0/391 [00:00<?, ?it/s]"
          ],
          "name": "stderr"
        },
        {
          "output_type": "stream",
          "text": [
            "\n",
            "Test set: Average loss: 0.0204, Accuracy: 1170/10000 (11.70%)\n",
            "\n",
            "EPOCH: 4\n"
          ],
          "name": "stdout"
        },
        {
          "output_type": "stream",
          "text": [
            "Loss=2.5461089611053467 Batch_id=390 Accuracy=11.76: 100%|██████████| 391/391 [00:12<00:00, 31.71it/s]\n",
            "  0%|          | 0/391 [00:00<?, ?it/s]"
          ],
          "name": "stderr"
        },
        {
          "output_type": "stream",
          "text": [
            "\n",
            "Test set: Average loss: 0.0204, Accuracy: 1173/10000 (11.73%)\n",
            "\n",
            "EPOCH: 5\n"
          ],
          "name": "stdout"
        },
        {
          "output_type": "stream",
          "text": [
            "Loss=2.5959348678588867 Batch_id=390 Accuracy=11.59: 100%|██████████| 391/391 [00:12<00:00, 32.05it/s]\n",
            "  0%|          | 0/391 [00:00<?, ?it/s]"
          ],
          "name": "stderr"
        },
        {
          "output_type": "stream",
          "text": [
            "\n",
            "Test set: Average loss: 0.0204, Accuracy: 1171/10000 (11.71%)\n",
            "\n",
            "EPOCH: 6\n"
          ],
          "name": "stdout"
        },
        {
          "output_type": "stream",
          "text": [
            "Loss=2.6132798194885254 Batch_id=390 Accuracy=11.68: 100%|██████████| 391/391 [00:12<00:00, 31.92it/s]\n",
            "  0%|          | 0/391 [00:00<?, ?it/s]"
          ],
          "name": "stderr"
        },
        {
          "output_type": "stream",
          "text": [
            "\n",
            "Test set: Average loss: 0.0204, Accuracy: 1172/10000 (11.72%)\n",
            "\n",
            "EPOCH: 7\n"
          ],
          "name": "stdout"
        },
        {
          "output_type": "stream",
          "text": [
            "Loss=2.5670316219329834 Batch_id=390 Accuracy=11.69: 100%|██████████| 391/391 [00:12<00:00, 36.63it/s]\n",
            "  0%|          | 0/391 [00:00<?, ?it/s]"
          ],
          "name": "stderr"
        },
        {
          "output_type": "stream",
          "text": [
            "\n",
            "Test set: Average loss: 0.0204, Accuracy: 1172/10000 (11.72%)\n",
            "\n",
            "EPOCH: 8\n"
          ],
          "name": "stdout"
        },
        {
          "output_type": "stream",
          "text": [
            "Loss=2.54437518119812 Batch_id=390 Accuracy=11.65: 100%|██████████| 391/391 [00:12<00:00, 31.92it/s]\n",
            "  0%|          | 0/391 [00:00<?, ?it/s]"
          ],
          "name": "stderr"
        },
        {
          "output_type": "stream",
          "text": [
            "\n",
            "Test set: Average loss: 0.0204, Accuracy: 1168/10000 (11.68%)\n",
            "\n",
            "EPOCH: 9\n"
          ],
          "name": "stdout"
        },
        {
          "output_type": "stream",
          "text": [
            "Loss=2.4141669273376465 Batch_id=390 Accuracy=11.76: 100%|██████████| 391/391 [00:12<00:00, 31.66it/s]\n",
            "  0%|          | 0/391 [00:00<?, ?it/s]"
          ],
          "name": "stderr"
        },
        {
          "output_type": "stream",
          "text": [
            "\n",
            "Test set: Average loss: 0.0204, Accuracy: 1174/10000 (11.74%)\n",
            "\n",
            "EPOCH: 10\n"
          ],
          "name": "stdout"
        },
        {
          "output_type": "stream",
          "text": [
            "Loss=2.583484172821045 Batch_id=390 Accuracy=11.74: 100%|██████████| 391/391 [00:12<00:00, 37.06it/s]\n",
            "  0%|          | 0/391 [00:00<?, ?it/s]"
          ],
          "name": "stderr"
        },
        {
          "output_type": "stream",
          "text": [
            "\n",
            "Test set: Average loss: 0.0204, Accuracy: 1167/10000 (11.67%)\n",
            "\n",
            "EPOCH: 11\n"
          ],
          "name": "stdout"
        },
        {
          "output_type": "stream",
          "text": [
            "Loss=2.651853084564209 Batch_id=390 Accuracy=11.71: 100%|██████████| 391/391 [00:12<00:00, 36.50it/s]\n",
            "  0%|          | 0/391 [00:00<?, ?it/s]"
          ],
          "name": "stderr"
        },
        {
          "output_type": "stream",
          "text": [
            "\n",
            "Test set: Average loss: 0.0204, Accuracy: 1160/10000 (11.60%)\n",
            "\n",
            "EPOCH: 12\n"
          ],
          "name": "stdout"
        },
        {
          "output_type": "stream",
          "text": [
            "Loss=2.5293214321136475 Batch_id=390 Accuracy=11.69: 100%|██████████| 391/391 [00:12<00:00, 31.75it/s]\n",
            "  0%|          | 0/391 [00:00<?, ?it/s]"
          ],
          "name": "stderr"
        },
        {
          "output_type": "stream",
          "text": [
            "\n",
            "Test set: Average loss: 0.0204, Accuracy: 1172/10000 (11.72%)\n",
            "\n",
            "EPOCH: 13\n"
          ],
          "name": "stdout"
        },
        {
          "output_type": "stream",
          "text": [
            "Loss=2.616722345352173 Batch_id=390 Accuracy=11.60: 100%|██████████| 391/391 [00:12<00:00, 32.10it/s]\n",
            "  0%|          | 0/391 [00:00<?, ?it/s]"
          ],
          "name": "stderr"
        },
        {
          "output_type": "stream",
          "text": [
            "\n",
            "Test set: Average loss: 0.0204, Accuracy: 1170/10000 (11.70%)\n",
            "\n",
            "EPOCH: 14\n"
          ],
          "name": "stdout"
        },
        {
          "output_type": "stream",
          "text": [
            "Loss=2.5632622241973877 Batch_id=390 Accuracy=11.55: 100%|██████████| 391/391 [00:12<00:00, 31.67it/s]\n",
            "  0%|          | 0/391 [00:00<?, ?it/s]"
          ],
          "name": "stderr"
        },
        {
          "output_type": "stream",
          "text": [
            "\n",
            "Test set: Average loss: 0.0204, Accuracy: 1167/10000 (11.67%)\n",
            "\n",
            "EPOCH: 15\n"
          ],
          "name": "stdout"
        },
        {
          "output_type": "stream",
          "text": [
            "Loss=2.624911308288574 Batch_id=390 Accuracy=11.73: 100%|██████████| 391/391 [00:12<00:00, 31.73it/s]\n",
            "  0%|          | 0/391 [00:00<?, ?it/s]"
          ],
          "name": "stderr"
        },
        {
          "output_type": "stream",
          "text": [
            "\n",
            "Test set: Average loss: 0.0204, Accuracy: 1172/10000 (11.72%)\n",
            "\n",
            "EPOCH: 16\n"
          ],
          "name": "stdout"
        },
        {
          "output_type": "stream",
          "text": [
            "Loss=2.777182102203369 Batch_id=390 Accuracy=11.72: 100%|██████████| 391/391 [00:12<00:00, 31.73it/s]\n",
            "  0%|          | 0/391 [00:00<?, ?it/s]"
          ],
          "name": "stderr"
        },
        {
          "output_type": "stream",
          "text": [
            "\n",
            "Test set: Average loss: 0.0204, Accuracy: 1166/10000 (11.66%)\n",
            "\n",
            "EPOCH: 17\n"
          ],
          "name": "stdout"
        },
        {
          "output_type": "stream",
          "text": [
            "Loss=2.592236280441284 Batch_id=390 Accuracy=11.73: 100%|██████████| 391/391 [00:12<00:00, 31.65it/s]\n",
            "  0%|          | 0/391 [00:00<?, ?it/s]"
          ],
          "name": "stderr"
        },
        {
          "output_type": "stream",
          "text": [
            "\n",
            "Test set: Average loss: 0.0204, Accuracy: 1167/10000 (11.67%)\n",
            "\n",
            "EPOCH: 18\n"
          ],
          "name": "stdout"
        },
        {
          "output_type": "stream",
          "text": [
            "Loss=2.7510135173797607 Batch_id=390 Accuracy=11.80: 100%|██████████| 391/391 [00:12<00:00, 36.99it/s]\n",
            "  0%|          | 0/391 [00:00<?, ?it/s]"
          ],
          "name": "stderr"
        },
        {
          "output_type": "stream",
          "text": [
            "\n",
            "Test set: Average loss: 0.0204, Accuracy: 1162/10000 (11.62%)\n",
            "\n",
            "EPOCH: 19\n"
          ],
          "name": "stdout"
        },
        {
          "output_type": "stream",
          "text": [
            "Loss=2.42732572555542 Batch_id=390 Accuracy=11.73: 100%|██████████| 391/391 [00:12<00:00, 31.92it/s]\n",
            "  0%|          | 0/391 [00:00<?, ?it/s]"
          ],
          "name": "stderr"
        },
        {
          "output_type": "stream",
          "text": [
            "\n",
            "Test set: Average loss: 0.0204, Accuracy: 1177/10000 (11.77%)\n",
            "\n",
            "EPOCH: 20\n"
          ],
          "name": "stdout"
        },
        {
          "output_type": "stream",
          "text": [
            "Loss=2.5875604152679443 Batch_id=390 Accuracy=11.55: 100%|██████████| 391/391 [00:12<00:00, 31.91it/s]\n",
            "  0%|          | 0/391 [00:00<?, ?it/s]"
          ],
          "name": "stderr"
        },
        {
          "output_type": "stream",
          "text": [
            "\n",
            "Test set: Average loss: 0.0204, Accuracy: 1178/10000 (11.78%)\n",
            "\n",
            "EPOCH: 21\n"
          ],
          "name": "stdout"
        },
        {
          "output_type": "stream",
          "text": [
            "Loss=2.5692801475524902 Batch_id=390 Accuracy=11.65: 100%|██████████| 391/391 [00:12<00:00, 37.01it/s]\n",
            "  0%|          | 0/391 [00:00<?, ?it/s]"
          ],
          "name": "stderr"
        },
        {
          "output_type": "stream",
          "text": [
            "\n",
            "Test set: Average loss: 0.0204, Accuracy: 1164/10000 (11.64%)\n",
            "\n",
            "EPOCH: 22\n"
          ],
          "name": "stdout"
        },
        {
          "output_type": "stream",
          "text": [
            "Loss=2.6001486778259277 Batch_id=390 Accuracy=11.75: 100%|██████████| 391/391 [00:12<00:00, 31.95it/s]\n",
            "  0%|          | 0/391 [00:00<?, ?it/s]"
          ],
          "name": "stderr"
        },
        {
          "output_type": "stream",
          "text": [
            "\n",
            "Test set: Average loss: 0.0204, Accuracy: 1164/10000 (11.64%)\n",
            "\n",
            "EPOCH: 23\n"
          ],
          "name": "stdout"
        },
        {
          "output_type": "stream",
          "text": [
            "Loss=2.5905823707580566 Batch_id=390 Accuracy=11.69: 100%|██████████| 391/391 [00:12<00:00, 31.67it/s]\n",
            "  0%|          | 0/391 [00:00<?, ?it/s]"
          ],
          "name": "stderr"
        },
        {
          "output_type": "stream",
          "text": [
            "\n",
            "Test set: Average loss: 0.0204, Accuracy: 1176/10000 (11.76%)\n",
            "\n",
            "EPOCH: 24\n"
          ],
          "name": "stdout"
        },
        {
          "output_type": "stream",
          "text": [
            "Loss=2.5529403686523438 Batch_id=390 Accuracy=11.78: 100%|██████████| 391/391 [00:12<00:00, 31.85it/s]\n",
            "  0%|          | 0/391 [00:00<?, ?it/s]"
          ],
          "name": "stderr"
        },
        {
          "output_type": "stream",
          "text": [
            "\n",
            "Test set: Average loss: 0.0204, Accuracy: 1174/10000 (11.74%)\n",
            "\n",
            "EPOCH: 25\n"
          ],
          "name": "stdout"
        },
        {
          "output_type": "stream",
          "text": [
            "Loss=2.653189182281494 Batch_id=390 Accuracy=11.67: 100%|██████████| 391/391 [00:12<00:00, 36.06it/s]\n",
            "  0%|          | 0/391 [00:00<?, ?it/s]"
          ],
          "name": "stderr"
        },
        {
          "output_type": "stream",
          "text": [
            "\n",
            "Test set: Average loss: 0.0203, Accuracy: 1176/10000 (11.76%)\n",
            "\n",
            "EPOCH: 26\n"
          ],
          "name": "stdout"
        },
        {
          "output_type": "stream",
          "text": [
            "Loss=2.617128849029541 Batch_id=390 Accuracy=11.64: 100%|██████████| 391/391 [00:12<00:00, 31.60it/s]\n",
            "  0%|          | 0/391 [00:00<?, ?it/s]"
          ],
          "name": "stderr"
        },
        {
          "output_type": "stream",
          "text": [
            "\n",
            "Test set: Average loss: 0.0204, Accuracy: 1169/10000 (11.69%)\n",
            "\n",
            "EPOCH: 27\n"
          ],
          "name": "stdout"
        },
        {
          "output_type": "stream",
          "text": [
            "Loss=2.7598490715026855 Batch_id=390 Accuracy=11.54: 100%|██████████| 391/391 [00:12<00:00, 31.84it/s]\n",
            "  0%|          | 0/391 [00:00<?, ?it/s]"
          ],
          "name": "stderr"
        },
        {
          "output_type": "stream",
          "text": [
            "\n",
            "Test set: Average loss: 0.0204, Accuracy: 1165/10000 (11.65%)\n",
            "\n",
            "EPOCH: 28\n"
          ],
          "name": "stdout"
        },
        {
          "output_type": "stream",
          "text": [
            "Loss=2.608718156814575 Batch_id=390 Accuracy=11.72: 100%|██████████| 391/391 [00:12<00:00, 31.44it/s]\n",
            "  0%|          | 0/391 [00:00<?, ?it/s]"
          ],
          "name": "stderr"
        },
        {
          "output_type": "stream",
          "text": [
            "\n",
            "Test set: Average loss: 0.0203, Accuracy: 1166/10000 (11.66%)\n",
            "\n",
            "EPOCH: 29\n"
          ],
          "name": "stdout"
        },
        {
          "output_type": "stream",
          "text": [
            "Loss=2.6203367710113525 Batch_id=390 Accuracy=11.62: 100%|██████████| 391/391 [00:12<00:00, 37.39it/s]\n",
            "  0%|          | 0/391 [00:00<?, ?it/s]"
          ],
          "name": "stderr"
        },
        {
          "output_type": "stream",
          "text": [
            "\n",
            "Test set: Average loss: 0.0204, Accuracy: 1167/10000 (11.67%)\n",
            "\n",
            "EPOCH: 30\n"
          ],
          "name": "stdout"
        },
        {
          "output_type": "stream",
          "text": [
            "Loss=2.5709500312805176 Batch_id=390 Accuracy=11.68: 100%|██████████| 391/391 [00:12<00:00, 31.53it/s]\n",
            "  0%|          | 0/391 [00:00<?, ?it/s]"
          ],
          "name": "stderr"
        },
        {
          "output_type": "stream",
          "text": [
            "\n",
            "Test set: Average loss: 0.0204, Accuracy: 1173/10000 (11.73%)\n",
            "\n",
            "EPOCH: 31\n"
          ],
          "name": "stdout"
        },
        {
          "output_type": "stream",
          "text": [
            "Loss=2.6604716777801514 Batch_id=390 Accuracy=11.58: 100%|██████████| 391/391 [00:12<00:00, 32.09it/s]\n",
            "  0%|          | 0/391 [00:00<?, ?it/s]"
          ],
          "name": "stderr"
        },
        {
          "output_type": "stream",
          "text": [
            "\n",
            "Test set: Average loss: 0.0204, Accuracy: 1169/10000 (11.69%)\n",
            "\n",
            "EPOCH: 32\n"
          ],
          "name": "stdout"
        },
        {
          "output_type": "stream",
          "text": [
            "Loss=2.4228813648223877 Batch_id=390 Accuracy=11.83: 100%|██████████| 391/391 [00:12<00:00, 31.79it/s]\n",
            "  0%|          | 0/391 [00:00<?, ?it/s]"
          ],
          "name": "stderr"
        },
        {
          "output_type": "stream",
          "text": [
            "\n",
            "Test set: Average loss: 0.0204, Accuracy: 1177/10000 (11.77%)\n",
            "\n",
            "EPOCH: 33\n"
          ],
          "name": "stdout"
        },
        {
          "output_type": "stream",
          "text": [
            "Loss=2.730299472808838 Batch_id=390 Accuracy=11.70: 100%|██████████| 391/391 [00:12<00:00, 31.85it/s]\n",
            "  0%|          | 0/391 [00:00<?, ?it/s]"
          ],
          "name": "stderr"
        },
        {
          "output_type": "stream",
          "text": [
            "\n",
            "Test set: Average loss: 0.0204, Accuracy: 1174/10000 (11.74%)\n",
            "\n",
            "EPOCH: 34\n"
          ],
          "name": "stdout"
        },
        {
          "output_type": "stream",
          "text": [
            "Loss=2.6253485679626465 Batch_id=390 Accuracy=11.71: 100%|██████████| 391/391 [00:12<00:00, 30.49it/s]\n"
          ],
          "name": "stderr"
        },
        {
          "output_type": "stream",
          "text": [
            "\n",
            "Test set: Average loss: 0.0204, Accuracy: 1177/10000 (11.77%)\n",
            "\n"
          ],
          "name": "stdout"
        }
      ]
    },
    {
      "cell_type": "code",
      "metadata": {
        "id": "aH8qQGkgNAyr",
        "colab_type": "code",
        "colab": {
          "base_uri": "https://localhost:8080/",
          "height": 34
        },
        "outputId": "d7710acf-b9f6-4975-f64e-0c10267db93a"
      },
      "source": [
        "from datetime import datetime\n",
        "print(\"Current Date/Time: \", datetime.now())"
      ],
      "execution_count": 14,
      "outputs": [
        {
          "output_type": "stream",
          "text": [
            "Current Date/Time:  2020-03-17 13:45:46.054449\n"
          ],
          "name": "stdout"
        }
      ]
    },
    {
      "cell_type": "code",
      "metadata": {
        "id": "wf1BIxL0nFw7",
        "colab_type": "code",
        "colab": {}
      },
      "source": [
        ""
      ],
      "execution_count": 0,
      "outputs": []
    }
  ]
}